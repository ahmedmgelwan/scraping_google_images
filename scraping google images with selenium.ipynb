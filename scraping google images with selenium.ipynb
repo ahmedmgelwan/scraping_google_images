{
  "nbformat": 4,
  "nbformat_minor": 0,
  "metadata": {
    "colab": {
      "provenance": [],
      "mount_file_id": "17uyiEKxRQNFZSprMUFLUiF4kE7T95FXY",
      "authorship_tag": "ABX9TyMFkSKspVQbPjsS2MAQ25Z4",
      "include_colab_link": true
    },
    "kernelspec": {
      "name": "python3",
      "display_name": "Python 3"
    },
    "language_info": {
      "name": "python"
    }
  },
  "cells": [
    {
      "cell_type": "markdown",
      "metadata": {
        "id": "view-in-github",
        "colab_type": "text"
      },
      "source": [
        "<a href=\"https://colab.research.google.com/github/ahmedmgelwan/scraping_google_images/blob/main/scraping%20google%20images%20with%20selenium.ipynb\" target=\"_parent\"><img src=\"https://colab.research.google.com/assets/colab-badge.svg\" alt=\"Open In Colab\"/></a>"
      ]
    },
    {
      "cell_type": "code",
      "source": [
        "# %%shell\n",
        "# # Ubuntu no longer distributes chromium-browser outside of snap\n",
        "# #\n",
        "# # Proposed solution: https://askubuntu.com/questions/1204571/how-to-install-chromium-without-snap\n",
        "\n",
        "# # Add debian buster\n",
        "# cat > /etc/apt/sources.list.d/debian.list <<'EOF'\n",
        "# deb [arch=amd64 signed-by=/usr/share/keyrings/debian-buster.gpg] http://deb.debian.org/debian buster main\n",
        "# deb [arch=amd64 signed-by=/usr/share/keyrings/debian-buster-updates.gpg] http://deb.debian.org/debian buster-updates main\n",
        "# deb [arch=amd64 signed-by=/usr/share/keyrings/debian-security-buster.gpg] http://deb.debian.org/debian-security buster/updates main\n",
        "# EOF\n",
        "\n",
        "# # Add keys\n",
        "# apt-key adv --keyserver keyserver.ubuntu.com --recv-keys DCC9EFBF77E11517\n",
        "# apt-key adv --keyserver keyserver.ubuntu.com --recv-keys 648ACFD622F3D138\n",
        "# apt-key adv --keyserver keyserver.ubuntu.com --recv-keys 112695A0E562B32A\n",
        "\n",
        "# apt-key export 77E11517 | gpg --dearmour -o /usr/share/keyrings/debian-buster.gpg\n",
        "# apt-key export 22F3D138 | gpg --dearmour -o /usr/share/keyrings/debian-buster-updates.gpg\n",
        "# apt-key export E562B32A | gpg --dearmour -o /usr/share/keyrings/debian-security-buster.gpg\n",
        "\n",
        "# # Prefer debian repo for chromium* packages only\n",
        "# # Note the double-blank lines between entries\n",
        "# cat > /etc/apt/preferences.d/chromium.pref << 'EOF'\n",
        "# Package: *\n",
        "# Pin: release a=eoan\n",
        "# Pin-Priority: 500\n",
        "\n",
        "\n",
        "# Package: *\n",
        "# Pin: origin \"deb.debian.org\"\n",
        "# Pin-Priority: 300\n",
        "# 'https://www.google.com/search?sca_esv=564207690&q=mo+salah&tbm=isch&source=lnms&sa=X&ved=2ahUKEwjO4Z3n_qCBAxVlVKQEHcFwCKcQ0pQJegQICxAB&biw=1225&bih=734&dpr=1'\n",
        "\n",
        "# Package: chromium*\n",
        "# Pin: origin \"deb.debian.org\"\n",
        "# Pin-Priority: 700\n",
        "# EOF\n",
        "\n",
        "# # Install chromium and chromium-driver\n",
        "# apt-get update\n",
        "# apt-get install chromium chromium-driver\n",
        "\n",
        "# Install selenium\n",
        "# pip install selenium"
      ],
      "metadata": {
        "id": "57zpRYmoDUpD"
      },
      "execution_count": null,
      "outputs": []
    },
    {
      "cell_type": "code",
      "source": [
        "from selenium import webdriver\n",
        "from selenium.webdriver.chrome.service import Service\n",
        "from selenium.webdriver.common.by import By\n",
        "import time\n",
        "import urllib\n",
        "import os"
      ],
      "metadata": {
        "id": "o6CKs82-EXIq"
      },
      "execution_count": 2,
      "outputs": []
    },
    {
      "cell_type": "code",
      "source": [
        "def save_img(url,name):\n",
        "    img = urllib.request.urlopen(url)\n",
        "    out = open(name,'wb')\n",
        "    out.write(img.read())\n",
        "    out.close()"
      ],
      "metadata": {
        "id": "z3R2rN8SeFXX"
      },
      "execution_count": 3,
      "outputs": []
    },
    {
      "cell_type": "code",
      "source": [
        "service = Service(executable_path=\"/usr/bin/chromedriver\")\n",
        "options = webdriver.ChromeOptions()\n",
        "\n",
        "options.add_argument('--headless')\n",
        "options.add_argument('--no-sandbox')\n",
        "driver = webdriver.Chrome(service=service, options=options)\n",
        "url = input('URL - ')\n",
        "driver.get(url)\n",
        "time.sleep(5)\n",
        "full_xpath = '/html/body/div[2]/c-wiz/div[3]/div[1]/div/div/div/div/div[1]/div[1]/span/div[1]/div[1]/div[1]'\n",
        "# pics = driver.find_element('xpath',full_xpath)\n",
        "pics = driver.find_elements(By.CLASS_NAME, 'rg_i')\n",
        "name = driver.title.split(' - ')[0].title()\n",
        "links = []\n",
        "x = 0\n",
        "last_height=0\n",
        "print(name)\n",
        "try:\n",
        "    os.chdir('/content/drive/MyDrive/Projects/web_scraping/google_images')\n",
        "    os.mkdir(name)\n",
        "    os.chdir(name)\n",
        "except:\n",
        "    exit()\n",
        "while True:\n",
        "\n",
        "    driver.execute_script(\"window.scrollTo(0, document.body.scrollHeight);\")\n",
        "    time.sleep(40)\n",
        "\n",
        "    for i,pic in enumerate(pics):\n",
        "        try:\n",
        "            img_link = pic.get_attribute('src')\n",
        "            if img_link not in links:\n",
        "                links.append(img_link)\n",
        "                file_name=str(x+1).zfill(3)+'.jpg'\n",
        "                save_img(img_link,file_name)\n",
        "\n",
        "                x+=1\n",
        "                print(f'{file_name} has saved.')\n",
        "\n",
        "        except:\n",
        "            print(f'{file_name} Failed.')\n",
        "    new_height = driver.execute_script(\"return document.body.scrollHeight\")\n",
        "    print(new_height)\n",
        "    if new_height == last_height:\n",
        "        exit()\n",
        "    last_height = new_height\n",
        "print('All is done')\n",
        "driver.quit()"
      ],
      "metadata": {
        "id": "_9oUvMo_Nlx_"
      },
      "execution_count": null,
      "outputs": []
    }
  ]
}